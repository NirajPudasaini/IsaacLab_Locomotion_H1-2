{
 "cells": [
  {
   "cell_type": "code",
   "execution_count": 3,
   "metadata": {},
   "outputs": [
    {
     "ename": "ModuleNotFoundError",
     "evalue": "No module named 'pxr'",
     "output_type": "error",
     "traceback": [
      "\u001b[0;31m---------------------------------------------------------------------------\u001b[0m",
      "\u001b[0;31mModuleNotFoundError\u001b[0m                       Traceback (most recent call last)",
      "Cell \u001b[0;32mIn[3], line 1\u001b[0m\n\u001b[0;32m----> 1\u001b[0m \u001b[38;5;28;01mfrom\u001b[39;00m\u001b[38;5;250m \u001b[39m\u001b[38;5;21;01mpxr\u001b[39;00m\u001b[38;5;250m \u001b[39m\u001b[38;5;28;01mimport\u001b[39;00m Usd, UsdGeom, Sdf\n\u001b[1;32m      2\u001b[0m \u001b[38;5;28;01mimport\u001b[39;00m\u001b[38;5;250m \u001b[39m\u001b[38;5;21;01misaaclab\u001b[39;00m\u001b[38;5;21;01m.\u001b[39;00m\u001b[38;5;21;01msim\u001b[39;00m\u001b[38;5;250m \u001b[39m\u001b[38;5;28;01mas\u001b[39;00m\u001b[38;5;250m \u001b[39m\u001b[38;5;21;01msim_utils\u001b[39;00m\n\u001b[1;32m      3\u001b[0m \u001b[38;5;28;01mfrom\u001b[39;00m\u001b[38;5;250m \u001b[39m\u001b[38;5;21;01misaaclab\u001b[39;00m\u001b[38;5;21;01m.\u001b[39;00m\u001b[38;5;21;01mutils\u001b[39;00m\u001b[38;5;21;01m.\u001b[39;00m\u001b[38;5;21;01massets\u001b[39;00m\u001b[38;5;250m \u001b[39m\u001b[38;5;28;01mimport\u001b[39;00m ISAACLAB_NUCLEUS_DIR\n",
      "\u001b[0;31mModuleNotFoundError\u001b[0m: No module named 'pxr'"
     ]
    }
   ],
   "source": [
    "from pxr import Usd, UsdGeom, Sdf\n",
    "import isaaclab.sim as sim_utils\n",
    "from isaaclab.utils.assets import ISAACLAB_NUCLEUS_DIR\n"
   ]
  },
  {
   "cell_type": "code",
   "execution_count": 1,
   "metadata": {},
   "outputs": [
    {
     "ename": "ModuleNotFoundError",
     "evalue": "No module named 'pxr'",
     "output_type": "error",
     "traceback": [
      "\u001b[0;31m---------------------------------------------------------------------------\u001b[0m",
      "\u001b[0;31mModuleNotFoundError\u001b[0m                       Traceback (most recent call last)",
      "Cell \u001b[0;32mIn[1], line 1\u001b[0m\n\u001b[0;32m----> 1\u001b[0m \u001b[38;5;28;01mfrom\u001b[39;00m\u001b[38;5;250m \u001b[39m\u001b[38;5;21;01mpxr\u001b[39;00m\u001b[38;5;250m \u001b[39m\u001b[38;5;28;01mimport\u001b[39;00m Usd, UsdGeom, Sdf\n\u001b[1;32m      2\u001b[0m \u001b[38;5;28;01mimport\u001b[39;00m\u001b[38;5;250m \u001b[39m\u001b[38;5;21;01misaaclab\u001b[39;00m\u001b[38;5;21;01m.\u001b[39;00m\u001b[38;5;21;01msim\u001b[39;00m\u001b[38;5;250m \u001b[39m\u001b[38;5;28;01mas\u001b[39;00m\u001b[38;5;250m \u001b[39m\u001b[38;5;21;01msim_utils\u001b[39;00m\n\u001b[1;32m      3\u001b[0m \u001b[38;5;28;01mfrom\u001b[39;00m\u001b[38;5;250m \u001b[39m\u001b[38;5;21;01misaaclab\u001b[39;00m\u001b[38;5;21;01m.\u001b[39;00m\u001b[38;5;21;01mutils\u001b[39;00m\u001b[38;5;21;01m.\u001b[39;00m\u001b[38;5;21;01massets\u001b[39;00m\u001b[38;5;250m \u001b[39m\u001b[38;5;28;01mimport\u001b[39;00m ISAACLAB_NUCLEUS_DIR\n",
      "\u001b[0;31mModuleNotFoundError\u001b[0m: No module named 'pxr'"
     ]
    }
   ],
   "source": [
    "\n",
    "# Construct USD path using nucleus directory\n",
    "usd_path = f\"{ISAACLAB_NUCLEUS_DIR}/Robots/Unitree/H1/h1_minimal.usd\"\n",
    "\n",
    "# Open the stage\n",
    "stage = Usd.Stage.Open(usd_path)\n",
    "if not stage:\n",
    "    raise RuntimeError(f\"Failed to open USD file: {usd_path}\")\n",
    "\n",
    "print(f\"Inspecting USD file: {usd_path}\\n\")\n",
    "\n",
    "# List all prims under /World/envs/env_0/Robot (adjust if necessary)\n",
    "robot_root = \"/World/envs/env_0/Robot\"\n",
    "robot_prim = stage.GetPrimAtPath(robot_root)\n",
    "if not robot_prim:\n",
    "    raise RuntimeError(f\"Robot prim not found at {robot_root}\")\n",
    "\n",
    "print(\"--- All Prims Under Robot Root ---\")\n",
    "for prim in stage.TraverseAll():\n",
    "    if prim.GetPath().pathString.startswith(robot_root):\n",
    "        print(prim.GetPath().pathString)\n",
    "\n",
    "# Filter for link and joint prims\n",
    "print(\"\\n--- Link Prims (names ending with _link) ---\")\n",
    "for prim in stage.TraverseAll():\n",
    "    name = prim.GetName()\n",
    "    if name.endswith(\"_link\"):\n",
    "        print(f\"{prim.GetPath()} -> {name}\")\n",
    "\n",
    "print(\"\\n--- Joint Prims (names ending with _joint) ---\")\n",
    "for prim in stage.TraverseAll():\n",
    "    name = prim.GetName()\n",
    "    if name.endswith(\"_joint\"):\n",
    "        print(f\"{prim.GetPath()} -> {name}\")\n",
    "\n",
    "# Optionally, inspect articulation attributes\n",
    "print(\"\\n--- Articulation Attributes ---\")\n",
    "for prim in stage.TraverseAll():\n",
    "    if prim.GetTypeName() == \"PhysicsRigidBodyAPI\":\n",
    "        print(f\"RigidBody: {prim.GetPath()}\")\n",
    "    if prim.GetTypeName() == \"PhysicsArticulationRootAPI\":\n",
    "        print(f\"Articulation Root: {prim.GetPath()}\")\n"
   ]
  },
  {
   "cell_type": "code",
   "execution_count": null,
   "metadata": {},
   "outputs": [],
   "source": []
  }
 ],
 "metadata": {
  "kernelspec": {
   "display_name": "env_isaaclab",
   "language": "python",
   "name": "python3"
  },
  "language_info": {
   "codemirror_mode": {
    "name": "ipython",
    "version": 3
   },
   "file_extension": ".py",
   "mimetype": "text/x-python",
   "name": "python",
   "nbconvert_exporter": "python",
   "pygments_lexer": "ipython3",
   "version": "3.10.17"
  }
 },
 "nbformat": 4,
 "nbformat_minor": 2
}
